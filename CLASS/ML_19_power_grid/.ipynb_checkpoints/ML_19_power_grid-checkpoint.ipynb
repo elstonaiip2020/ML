{
 "cells": [
  {
   "cell_type": "markdown",
   "metadata": {},
   "source": [
    "# The Power grid of the western United Sates"
   ]
  },
  {
   "cell_type": "markdown",
   "metadata": {
    "collapsed": true
   },
   "source": [
    "<img src=\"us_grid.jpg\" alt=\"grid\">"
   ]
  },
  {
   "cell_type": "markdown",
   "metadata": {},
   "source": [
    "In this assessment you will be analysing the entire power grid of the western united States. The network represents an undirected unweighted topology of the Western States Power Grid of the United States. The data come from [the network  repository](http://networkrepository.com/inf-power.php) and was originally described in [this paper](https://www.nature.com/articles/30918). Nodes in this network represent Power stations and substations, and the edges are connections among these. \n",
    "\n",
    "If you get stuck, remember to look a the networkx documentation: https://networkx.github.io/documentation/stable/"
   ]
  },
  {
   "cell_type": "code",
   "execution_count": null,
   "metadata": {},
   "outputs": [],
   "source": [
    "import networkx as nx\n",
    "import pandas as pd\n",
    "import numpy as np\n",
    "import matplotlib.pyplot as plt\n",
    "%matplotlib inline"
   ]
  },
  {
   "cell_type": "markdown",
   "metadata": {},
   "source": [
    "## Basic network information"
   ]
  },
  {
   "cell_type": "markdown",
   "metadata": {},
   "source": [
    "Import the data from the file 'inf-power.txt'. The data is in the format of an edgelist."
   ]
  },
  {
   "cell_type": "code",
   "execution_count": null,
   "metadata": {},
   "outputs": [],
   "source": []
  },
  {
   "cell_type": "markdown",
   "metadata": {},
   "source": [
    "Print some basic info about the network"
   ]
  },
  {
   "cell_type": "code",
   "execution_count": null,
   "metadata": {},
   "outputs": [],
   "source": []
  },
  {
   "cell_type": "markdown",
   "metadata": {},
   "source": [
    "Plot the network (this might take a little while to run). You should alo change some of the plotting default patameters to make the plot easier to see"
   ]
  },
  {
   "cell_type": "code",
   "execution_count": null,
   "metadata": {},
   "outputs": [],
   "source": []
  },
  {
   "cell_type": "markdown",
   "metadata": {},
   "source": [
    "## Community detection"
   ]
  },
  {
   "cell_type": "markdown",
   "metadata": {},
   "source": [
    "Currently this entire grid is owned and maintained by a single state-run energy provider. Due to inefficiencies and corruption, the state is planning to privatize this network by splitting the grid into two subgrids owned and operated by two private enterprises. This division of the existing grid into two subgrids needs to be done in the most efficient way. You need to identify two subgrids within this existing network"
   ]
  },
  {
   "cell_type": "markdown",
   "metadata": {},
   "source": [
    "When you think you have an appropriate method, plot your results as a network, with each subgrid labelled with a different colour"
   ]
  },
  {
   "cell_type": "markdown",
   "metadata": {},
   "source": [
    "Wait! before you start..."
   ]
  },
  {
   "cell_type": "markdown",
   "metadata": {},
   "source": [
    "As with many network analysis tasks, community detection is exteremly computationally intensive. Trying to run community analytics on network of this size (5000 nodes, 6500 edges) will take a very long time. I suggest reducing the size of this network by dropping nodes. You can do this by removing nodes with a low importance. I suggest removing nodes that are only connected to 3 or fewer nodes."
   ]
  },
  {
   "cell_type": "code",
   "execution_count": null,
   "metadata": {},
   "outputs": [],
   "source": []
  },
  {
   "cell_type": "markdown",
   "metadata": {},
   "source": [
    "In dropping these nodes, you have now split the network into multiple subnetworks and isolated unconnected nodes. Let's keep only the largest subnetwork for our analysis. Networkx has a function **nx.connected_component_subgraphs()** which will label every individual subgraph. This can be used to drop all the nodes that belong to subgraph other than the largest subgraph"
   ]
  },
  {
   "cell_type": "code",
   "execution_count": null,
   "metadata": {},
   "outputs": [],
   "source": []
  },
  {
   "cell_type": "markdown",
   "metadata": {},
   "source": [
    "Now you should be able to partition the graph and plot the result"
   ]
  },
  {
   "cell_type": "code",
   "execution_count": null,
   "metadata": {},
   "outputs": [],
   "source": []
  }
 ],
 "metadata": {
  "kernelspec": {
   "display_name": "Python 3",
   "language": "python",
   "name": "python3"
  },
  "language_info": {
   "codemirror_mode": {
    "name": "ipython",
    "version": 3
   },
   "file_extension": ".py",
   "mimetype": "text/x-python",
   "name": "python",
   "nbconvert_exporter": "python",
   "pygments_lexer": "ipython3",
   "version": "3.7.4"
  }
 },
 "nbformat": 4,
 "nbformat_minor": 2
}
