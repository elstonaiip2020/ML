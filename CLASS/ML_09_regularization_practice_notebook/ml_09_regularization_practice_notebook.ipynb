{
 "cells": [
  {
   "cell_type": "markdown",
   "metadata": {},
   "source": [
    "# Practice Notebook"
   ]
  },
  {
   "cell_type": "markdown",
   "metadata": {},
   "source": [
    "We've seen how models like scikit-learn's Ridge regressor explicitly use a regularization parameter with linear regression. However, some more complex models include regularization as well. For example, the MLPClassifier and MLPRegressor models can take a parameter $\\alpha$ to adjust the strength of regularization.\n",
    "\n",
    "For this practice notebook, the goal is to see what difference this parameter makes to the performance of neural networks."
   ]
  },
  {
   "cell_type": "markdown",
   "metadata": {},
   "source": [
    "Load up the robot collisions data from the neural networks unit. You will need to edit the file paths or copy across the data. As before, scale the inputs and do a test/train split. "
   ]
  },
  {
   "cell_type": "code",
   "execution_count": null,
   "metadata": {},
   "outputs": [],
   "source": []
  },
  {
   "cell_type": "markdown",
   "metadata": {},
   "source": [
    "Choose some values for alpha. The default for the MLPClassifier is alpha = 0.0001. Make sure you have a few orders of magnitude on either side, and 0 for comparison. "
   ]
  },
  {
   "cell_type": "code",
   "execution_count": null,
   "metadata": {},
   "outputs": [],
   "source": []
  },
  {
   "cell_type": "markdown",
   "metadata": {},
   "source": [
    "Now train networks with these different values of alpha, and see how they perform. "
   ]
  },
  {
   "cell_type": "code",
   "execution_count": null,
   "metadata": {},
   "outputs": [],
   "source": []
  }
 ],
 "metadata": {
  "kernelspec": {
   "display_name": "Python 3",
   "language": "python",
   "name": "python3"
  },
  "language_info": {
   "codemirror_mode": {
    "name": "ipython",
    "version": 3
   },
   "file_extension": ".py",
   "mimetype": "text/x-python",
   "name": "python",
   "nbconvert_exporter": "python",
   "pygments_lexer": "ipython3",
   "version": "3.7.1"
  }
 },
 "nbformat": 4,
 "nbformat_minor": 2
}
